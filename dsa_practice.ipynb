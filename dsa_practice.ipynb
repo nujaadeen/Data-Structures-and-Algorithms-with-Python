{
 "cells": [
  {
   "cell_type": "code",
   "execution_count": 438,
   "metadata": {},
   "outputs": [],
   "source": [
    "def minCostClimbingStairs(cost):\n",
    "        \"\"\"\n",
    "        :type cost: List[int]\n",
    "        :rtype: int\n",
    "        \"\"\"\n",
    "        step_cost = [cost[0], cost[1]]\n",
    "\n",
    "        for i in range(2,len(cost)):\n",
    "            step_cost.append(cost[i]+ min(step_cost[i-1], step_cost[i-2]) )\n",
    "        print(step_cost)\n",
    "        return min(step_cost[-1], step_cost[-2])"
   ]
  },
  {
   "cell_type": "code",
   "execution_count": 439,
   "metadata": {},
   "outputs": [
    {
     "name": "stdout",
     "output_type": "stream",
     "text": [
      "[1, 100, 2, 3, 3, 103, 4, 5, 104, 6]\n"
     ]
    },
    {
     "data": {
      "text/plain": [
       "6"
      ]
     },
     "execution_count": 439,
     "metadata": {},
     "output_type": "execute_result"
    }
   ],
   "source": [
    "minCostClimbingStairs([1,100,1,1,1,100,1,1,100,1])"
   ]
  },
  {
   "cell_type": "code",
   "execution_count": 440,
   "metadata": {},
   "outputs": [],
   "source": [
    "def twoSum( nums, target):\n",
    "        \"\"\"\n",
    "        :type nums: List[int]\n",
    "        :type target: int\n",
    "        :rtype: List[int]\n",
    "        \"\"\"\n",
    "        sums = 0\n",
    "        for i in range(len(nums)):\n",
    "            for j in range(i+1, len(nums)):\n",
    "                sums = nums[i] + nums[j]\n",
    "                if sums == target:\n",
    "                    return [i,j]"
   ]
  },
  {
   "cell_type": "code",
   "execution_count": 441,
   "metadata": {},
   "outputs": [
    {
     "data": {
      "text/plain": [
       "[1, 2]"
      ]
     },
     "execution_count": 441,
     "metadata": {},
     "output_type": "execute_result"
    }
   ],
   "source": [
    "twoSum([3,2,4], 6)"
   ]
  },
  {
   "cell_type": "code",
   "execution_count": 442,
   "metadata": {},
   "outputs": [],
   "source": [
    "def twoSum( nums, target):\n",
    "        \"\"\"\n",
    "        :type nums: List[int]\n",
    "        :type target: int\n",
    "        :rtype: List[int]\n",
    "        \"\"\"\n",
    "        dict = {}\n",
    "        for i in range(len(nums)):\n",
    "            if target-nums[i] in dict:\n",
    "                  return [dict[target-nums[i]], i]\n",
    "            dict[nums[i]] = i"
   ]
  },
  {
   "cell_type": "code",
   "execution_count": 443,
   "metadata": {},
   "outputs": [
    {
     "data": {
      "text/plain": [
       "[1, 2]"
      ]
     },
     "execution_count": 443,
     "metadata": {},
     "output_type": "execute_result"
    }
   ],
   "source": [
    "twoSum([3,2,4], 6)"
   ]
  },
  {
   "cell_type": "code",
   "execution_count": 444,
   "metadata": {},
   "outputs": [],
   "source": [
    "class ListNode(object):\n",
    "    def __init__(self, val=0, next=None):\n",
    "        self.val = val\n",
    "        self.next = next\n",
    "def retain_num(l_node):\n",
    "    if l_node == None:\n",
    "        return ''\n",
    "    else:\n",
    "        return retain_num(l_node.next) + str(l_node.val)\n",
    "    \n",
    "def numtolist(num):\n",
    "    if num == '':\n",
    "        return None \n",
    "    node = ListNode(num[0])\n",
    "    node.next = numtolist(num[1:])\n",
    "\n",
    "    return node\n",
    "\n",
    "def addTwoNumbers(l1, l2):\n",
    "        \"\"\"\n",
    "        :type l1: ListNode\n",
    "        :type l2: ListNode\n",
    "        :rtype: ListNode\n",
    "        \"\"\"\n",
    "        \n",
    "        num1 = int(retain_num(l1))\n",
    "        num2 = int(retain_num(l2))\n",
    "\n",
    "        \n",
    "        return numtolist(str(num1 + num2))"
   ]
  },
  {
   "cell_type": "code",
   "execution_count": 445,
   "metadata": {},
   "outputs": [
    {
     "data": {
      "text/plain": [
       "'7'"
      ]
     },
     "execution_count": 445,
     "metadata": {},
     "output_type": "execute_result"
    }
   ],
   "source": [
    "numtolist('807').next.next.val"
   ]
  },
  {
   "cell_type": "code",
   "execution_count": null,
   "metadata": {},
   "outputs": [],
   "source": []
  },
  {
   "cell_type": "code",
   "execution_count": 446,
   "metadata": {},
   "outputs": [],
   "source": [
    "node_3 = ListNode(3)\n",
    "node_2 = ListNode(4, node_3)\n",
    "node_1 = ListNode(2, node_2)\n",
    "\n",
    "node2_3 = ListNode(4)\n",
    "node2_2 = ListNode(6, node2_3)\n",
    "node2_1 = ListNode(5, node2_2)"
   ]
  },
  {
   "cell_type": "code",
   "execution_count": 447,
   "metadata": {},
   "outputs": [
    {
     "name": "stdout",
     "output_type": "stream",
     "text": [
      "6\n"
     ]
    }
   ],
   "source": [
    "print(node2_1.next.val)"
   ]
  },
  {
   "cell_type": "code",
   "execution_count": 448,
   "metadata": {},
   "outputs": [
    {
     "data": {
      "text/plain": [
       "'342'"
      ]
     },
     "execution_count": 448,
     "metadata": {},
     "output_type": "execute_result"
    }
   ],
   "source": [
    "retain_num(node_1)"
   ]
  },
  {
   "cell_type": "code",
   "execution_count": 449,
   "metadata": {},
   "outputs": [
    {
     "data": {
      "text/plain": [
       "<__main__.ListNode at 0x106210bd0>"
      ]
     },
     "execution_count": 449,
     "metadata": {},
     "output_type": "execute_result"
    }
   ],
   "source": [
    "addTwoNumbers(node_1, node2_1)"
   ]
  },
  {
   "cell_type": "code",
   "execution_count": 450,
   "metadata": {},
   "outputs": [],
   "source": [
    "def subseq(s):\n",
    "    if len(s) < 2:\n",
    "        return s\n",
    "    opt1 = \"\"\n",
    "    opt2 = \"\"\n",
    "    if s[0] not in subseq(s[1:]):\n",
    "        opt1 = s[0] + subseq(s[1:])\n",
    "    else:\n",
    "        opt2 = subseq(s[1:])\n",
    "    return max(opt1, opt2)"
   ]
  },
  {
   "cell_type": "code",
   "execution_count": 451,
   "metadata": {},
   "outputs": [
    {
     "data": {
      "text/plain": [
       "'abc'"
      ]
     },
     "execution_count": 451,
     "metadata": {},
     "output_type": "execute_result"
    }
   ],
   "source": [
    "# subseq(\"pwwkew\")\n",
    "subseq('abc')"
   ]
  },
  {
   "cell_type": "code",
   "execution_count": 452,
   "metadata": {},
   "outputs": [
    {
     "name": "stdout",
     "output_type": "stream",
     "text": [
      "bab\n"
     ]
    }
   ],
   "source": [
    "class Solution(object):\n",
    "    def longestPalindrome(self, s):\n",
    "        \"\"\"\n",
    "        :type s: str\n",
    "        :rtype: str\n",
    "        \"\"\"\n",
    "        def expand_around_center(left, right):\n",
    "            while left >= 0 and right < len(s) and s[left] == s[right]:\n",
    "                left -= 1\n",
    "                right += 1\n",
    "            return left + 1, right - 1\n",
    "\n",
    "        start, end = 0, 0\n",
    "\n",
    "        for i in range(len(s)):\n",
    "            left1, right1 = expand_around_center(i, i)\n",
    "            left2, right2 = expand_around_center(i, i + 1)\n",
    "\n",
    "            if right1 - left1 > end - start:\n",
    "                start, end = left1, right1\n",
    "            if right2 - left2 > end - start:\n",
    "                start, end = left2, right2\n",
    "\n",
    "        return s[start:end + 1]\n",
    "    \n",
    "solution = Solution()\n",
    "result = solution.longestPalindrome(\"babad\")\n",
    "print(result)\n",
    "\n"
   ]
  },
  {
   "cell_type": "code",
   "execution_count": 453,
   "metadata": {},
   "outputs": [
    {
     "name": "stdout",
     "output_type": "stream",
     "text": [
      "b\n",
      "ba\n",
      "bab\n",
      "baba\n",
      "babad\n",
      "a\n",
      "ab\n",
      "aba\n",
      "abad\n",
      "b\n",
      "ba\n",
      "bad\n",
      "a\n",
      "ad\n",
      "d\n",
      "bab\n"
     ]
    }
   ],
   "source": [
    "class Solution(object):\n",
    "    def longestPalindrome(self, s):\n",
    "        \"\"\"\n",
    "        :type s: str\n",
    "        :rtype: str\n",
    "        \"\"\"\n",
    "        def isPalindrome(sub):\n",
    "            return sub == sub[::-1]\n",
    "\n",
    "        n = len(s)\n",
    "        max_length = 0\n",
    "        start = 0\n",
    "\n",
    "        for i in range(n):\n",
    "            for j in range(i + 1, n + 1):\n",
    "                sub = s[i:j]\n",
    "                print(sub)\n",
    "                if isPalindrome(sub) and len(sub) > max_length:\n",
    "                    max_length = len(sub)\n",
    "                    start = i\n",
    "\n",
    "        return s[start:start + max_length]\n",
    "\n",
    "# Example usage:\n",
    "solution = Solution()\n",
    "result = solution.longestPalindrome(\"babad\")\n",
    "print(result)\n"
   ]
  },
  {
   "cell_type": "code",
   "execution_count": 454,
   "metadata": {},
   "outputs": [
    {
     "data": {
      "text/plain": [
       "2"
      ]
     },
     "execution_count": 454,
     "metadata": {},
     "output_type": "execute_result"
    }
   ],
   "source": [
    "6%4"
   ]
  },
  {
   "cell_type": "code",
   "execution_count": 455,
   "metadata": {},
   "outputs": [],
   "source": [
    "def convert(s, numRows):\n",
    "    \"\"\"\n",
    "    :type s: str\n",
    "    :type numRows: int\n",
    "    :rtype: str\n",
    "    \"\"\"\n",
    "    num_list = ['' for _ in range(numRows)]\n",
    "    count = 0\n",
    "    inc = True\n",
    "    if numRows == 1:\n",
    "        return s\n",
    "    for char in s:\n",
    "        num_list[count] += char\n",
    "        if count == 0 or inc:\n",
    "            count += 1\n",
    "            inc = True\n",
    "            if count == numRows-1:\n",
    "                inc = False\n",
    "\n",
    "        elif count == numRows-1 or not inc:\n",
    "            count -= 1\n",
    "\n",
    "    return ''.join(num_list)"
   ]
  },
  {
   "cell_type": "code",
   "execution_count": 456,
   "metadata": {},
   "outputs": [
    {
     "data": {
      "text/plain": [
       "'AB'"
      ]
     },
     "execution_count": 456,
     "metadata": {},
     "output_type": "execute_result"
    }
   ],
   "source": [
    "s = \"AB\"\n",
    "convert(s, 1)"
   ]
  },
  {
   "cell_type": "code",
   "execution_count": 457,
   "metadata": {},
   "outputs": [
    {
     "name": "stdout",
     "output_type": "stream",
     "text": [
      "0\n",
      "1\n",
      "2\n",
      "3\n",
      "4\n",
      "3\n",
      "2\n",
      "1\n",
      "0\n",
      "1\n",
      "2\n",
      "3\n",
      "4\n",
      "3\n",
      "2\n",
      "1\n"
     ]
    }
   ],
   "source": [
    "def count(lim):\n",
    "    i = 0\n",
    "    tot = 0\n",
    "    inc = True\n",
    "    while True:\n",
    "        print(i)\n",
    "        if inc or i==0:\n",
    "            i+=1\n",
    "            inc = True\n",
    "            if i == lim-1:\n",
    "                inc = False\n",
    "\n",
    "        elif i == lim-1 or not inc:\n",
    "            i -= 1\n",
    "\n",
    "        \n",
    "        tot += 1\n",
    "\n",
    "        if tot == 16:\n",
    "            break\n",
    "\n",
    "count(5)"
   ]
  },
  {
   "cell_type": "code",
   "execution_count": 458,
   "metadata": {},
   "outputs": [
    {
     "data": {
      "text/plain": [
       "78"
      ]
     },
     "execution_count": 458,
     "metadata": {},
     "output_type": "execute_result"
    }
   ],
   "source": [
    "int('000078')"
   ]
  },
  {
   "cell_type": "code",
   "execution_count": 459,
   "metadata": {},
   "outputs": [
    {
     "data": {
      "text/plain": [
       "['6', '7', '8']"
      ]
     },
     "execution_count": 459,
     "metadata": {},
     "output_type": "execute_result"
    }
   ],
   "source": [
    "'6,7,8'.split(',')"
   ]
  },
  {
   "cell_type": "code",
   "execution_count": 460,
   "metadata": {},
   "outputs": [],
   "source": [
    "def reverse(x):\n",
    "    \"\"\"\n",
    "    :type x: int\n",
    "    :rtype: int\n",
    "    \"\"\"\n",
    "    str_x = str(x)\n",
    "    out_x = ''\n",
    "    for num in str_x:\n",
    "        out_x = num + out_x\n",
    "    if str_x[0] == '-':\n",
    "        return int('-'+out_x[:-1]) if int('-'+out_x[:-1]) > -(2**(31)) else 0\n",
    "    return int(out_x) if int(out_x) < 2**(31) - 1 else 0\n"
   ]
  },
  {
   "cell_type": "code",
   "execution_count": 461,
   "metadata": {},
   "outputs": [
    {
     "data": {
      "text/plain": [
       "2147483647"
      ]
     },
     "execution_count": 461,
     "metadata": {},
     "output_type": "execute_result"
    }
   ],
   "source": [
    "2**(31) - 1"
   ]
  },
  {
   "cell_type": "code",
   "execution_count": 462,
   "metadata": {},
   "outputs": [
    {
     "data": {
      "text/plain": [
       "0"
      ]
     },
     "execution_count": 462,
     "metadata": {},
     "output_type": "execute_result"
    }
   ],
   "source": [
    "reverse(1534236469)"
   ]
  },
  {
   "cell_type": "code",
   "execution_count": 463,
   "metadata": {},
   "outputs": [],
   "source": [
    "def reverse(x):\n",
    "    \"\"\"\n",
    "    :type x: int\n",
    "    :rtype: int\n",
    "    \"\"\"\n",
    "    flag = -1 if x < 0 else 1\n",
    "    out_x = str(abs(x))[::-1]\n",
    "\n",
    "    return flag * int(out_x) if int(out_x) < 2 ** (31) - 1 else 0"
   ]
  },
  {
   "cell_type": "code",
   "execution_count": null,
   "metadata": {},
   "outputs": [],
   "source": []
  },
  {
   "cell_type": "code",
   "execution_count": 464,
   "metadata": {},
   "outputs": [],
   "source": [
    "def myAtoi(s):\n",
    "    \"\"\"\n",
    "    :type s: str\n",
    "    :rtype: int\n",
    "    \"\"\"\n",
    "    # if s == '':\n",
    "    #     return 0\n",
    "    INT_MAX = 2**(31)-1\n",
    "    INT_MIN =  -(2**(31))\n",
    "    s = s.strip()\n",
    "\n",
    "    flag = 1\n",
    "    out_int = 0\n",
    "    if len(s) < 1:\n",
    "        return 0\n",
    "    elif s[0] == '-':\n",
    "        flag = -1\n",
    "        s = s[1:]\n",
    "    elif s[0] == '+':\n",
    "        flag = 1\n",
    "        s = s[1:]\n",
    "\n",
    "    \n",
    "    for char in s:\n",
    "        if char.isdigit():\n",
    "            out_int = out_int * 10 + int(char)\n",
    "        elif not char.isdigit():\n",
    "            break\n",
    "        \n",
    "    return max(min(INT_MAX, out_int*flag), INT_MIN) \n",
    "\n"
   ]
  },
  {
   "cell_type": "code",
   "execution_count": 465,
   "metadata": {},
   "outputs": [
    {
     "data": {
      "text/plain": [
       "(32, 45, 43)"
      ]
     },
     "execution_count": 465,
     "metadata": {},
     "output_type": "execute_result"
    }
   ],
   "source": [
    "ord(' '), ord('-'), ord('+')"
   ]
  },
  {
   "cell_type": "code",
   "execution_count": 466,
   "metadata": {},
   "outputs": [
    {
     "data": {
      "text/plain": [
       "48"
      ]
     },
     "execution_count": 466,
     "metadata": {},
     "output_type": "execute_result"
    }
   ],
   "source": [
    "ord('0')"
   ]
  },
  {
   "cell_type": "code",
   "execution_count": 467,
   "metadata": {},
   "outputs": [
    {
     "name": "stdout",
     "output_type": "stream",
     "text": [
      "1\n"
     ]
    },
    {
     "data": {
      "text/plain": [
       "0"
      ]
     },
     "execution_count": 467,
     "metadata": {},
     "output_type": "execute_result"
    }
   ],
   "source": [
    "s =\"+\"\n",
    "s = s.strip()\n",
    "print(len(s))\n",
    "myAtoi(s)"
   ]
  },
  {
   "cell_type": "code",
   "execution_count": 468,
   "metadata": {},
   "outputs": [
    {
     "data": {
      "text/plain": [
       "-2147483648"
      ]
     },
     "execution_count": 468,
     "metadata": {},
     "output_type": "execute_result"
    }
   ],
   "source": [
    "s = \"-91283472332\"\n",
    "myAtoi(s)"
   ]
  },
  {
   "cell_type": "code",
   "execution_count": 475,
   "metadata": {},
   "outputs": [],
   "source": [
    "def isPalindrome(x):\n",
    "    \"\"\"\n",
    "    :type x: int\n",
    "    :rtype: bool\n",
    "    \"\"\"\n",
    "    str_int = str(x)\n",
    "    return str_int == str_int[::-1]"
   ]
  },
  {
   "cell_type": "code",
   "execution_count": 478,
   "metadata": {},
   "outputs": [
    {
     "name": "stdout",
     "output_type": "stream",
     "text": [
      "121-\n"
     ]
    },
    {
     "data": {
      "text/plain": [
       "'false'"
      ]
     },
     "execution_count": 478,
     "metadata": {},
     "output_type": "execute_result"
    }
   ],
   "source": [
    "x = -121\n",
    "print(str(x)[::-1])\n",
    "isPalindrome(x)"
   ]
  },
  {
   "cell_type": "code",
   "execution_count": 32,
   "metadata": {},
   "outputs": [],
   "source": [
    "def isMatch(s, p):\n",
    "        \"\"\"\n",
    "        :type s: str\n",
    "        :type p: str\n",
    "        :rtype: bool\n",
    "        \"\"\"\n",
    "        mul = False\n",
    "        dot = False\n",
    "        eff_p = ''\n",
    "        mul_ele = {}\n",
    "        rec_mul = 0\n",
    "        \n",
    "        for i in range(len(p)):\n",
    "            if p[i] == '*':\n",
    "                mul = True\n",
    "                mul_ele[p[i-1]] = i\n",
    "            elif p[i] == '.':\n",
    "                dot = True\n",
    "\n",
    "        if not mul and not dot:\n",
    "            if s == p:\n",
    "                return True\n",
    "            else:\n",
    "                return False\n",
    "        elif dot and mul:\n",
    "            return True\n",
    "        elif mul:\n",
    "            for i, char in enumerate(s):\n",
    "                if char in mul_ele:\n",
    "                    rec_mul = i\n",
    "                elif char not in p[rec_mul:]:\n",
    "                    return False\n",
    "            return True"
   ]
  },
  {
   "cell_type": "code",
   "execution_count": 33,
   "metadata": {},
   "outputs": [
    {
     "name": "stdout",
     "output_type": "stream",
     "text": [
      "yes\n",
      "a\n",
      "b:  *\n",
      "a\n",
      "b:  b\n",
      "b\n",
      "b\n",
      "c\n",
      "c b\n"
     ]
    },
    {
     "data": {
      "text/plain": [
       "False"
      ]
     },
     "execution_count": 33,
     "metadata": {},
     "output_type": "execute_result"
    }
   ],
   "source": [
    "isMatch(\"aabbcc\", \"a*bc\")"
   ]
  },
  {
   "cell_type": "code",
   "execution_count": null,
   "metadata": {},
   "outputs": [],
   "source": []
  }
 ],
 "metadata": {
  "kernelspec": {
   "display_name": "Python 3",
   "language": "python",
   "name": "python3"
  },
  "language_info": {
   "codemirror_mode": {
    "name": "ipython",
    "version": 3
   },
   "file_extension": ".py",
   "mimetype": "text/x-python",
   "name": "python",
   "nbconvert_exporter": "python",
   "pygments_lexer": "ipython3",
   "version": "3.11.4"
  }
 },
 "nbformat": 4,
 "nbformat_minor": 2
}
