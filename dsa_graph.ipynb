{
 "cells": [
  {
   "cell_type": "markdown",
   "metadata": {},
   "source": [
    "# Graph Algorithms (BFS, DFS, Shortest Paths) using Python\n",
    "\n",
    "### Part 5 of \"Data Structures and Algorithms in Python\"\n",
    "\n",
    "[Data Structures and Algorithms in Python](https://jovian.ai/learn/data-structures-and-algorithms-in-python) is a beginner-friendly introduction to common data structures (linked lists, stacks, queues, graphs) and algorithms (search, sorting, recursion, dynamic programming) in Python, designed to help you prepare for coding interviews and assessments. \n",
    "\n",
    "Ask questions, get help & participate in discussions on the [course community forum](https://jovian.ai/forum/c/data-structures-and-algorithms-in-python/78). Earn a verified certificate of accomplishment for this course by signing up here: http://pythondsa.com.  \n"
   ]
  },
  {
   "cell_type": "code",
   "execution_count": 3,
   "metadata": {},
   "outputs": [
    {
     "data": {
      "text/plain": [
       "['m', 'n']"
      ]
     },
     "execution_count": 3,
     "metadata": {},
     "output_type": "execute_result"
    }
   ],
   "source": [
    "y = ['m', 'n']\n",
    "for i in y:\n",
    "    i.upper()\n",
    "y"
   ]
  },
  {
   "cell_type": "code",
   "execution_count": 1,
   "metadata": {},
   "outputs": [
    {
     "data": {
      "text/plain": [
       "46"
      ]
     },
     "execution_count": 1,
     "metadata": {},
     "output_type": "execute_result"
    }
   ],
   "source": [
    "int(45.44+3/3)"
   ]
  },
  {
   "cell_type": "markdown",
   "metadata": {},
   "source": [
    "## Graphs in the Real World\n",
    "\n",
    "### Railway network\n",
    "\n",
    "![](https://i.imgur.com/uSF6AEJ.png)\n",
    "\n",
    "### Flight routes\n",
    "\n",
    "![](https://www.mapsales.com/products/mapsofworld/images/zoom/world-air-route-wall-map.gif)\n",
    "\n",
    "### Hyperlinks\n",
    "\n",
    "![](https://i.imgur.com/hlGDYn2.png)"
   ]
  },
  {
   "cell_type": "markdown",
   "metadata": {},
   "source": [
    "## Graph Data Strucutre\n",
    "\n",
    "![](https://i.imgur.com/xkgMnwx.png)\n"
   ]
  },
  {
   "cell_type": "code",
   "execution_count": 1526,
   "metadata": {},
   "outputs": [
    {
     "data": {
      "text/plain": [
       "(5, 7)"
      ]
     },
     "execution_count": 1526,
     "metadata": {},
     "output_type": "execute_result"
    }
   ],
   "source": [
    "num_nodes = 5\n",
    "edges = [(0,1), (0,4), (1,2), (1,3), (1,4), (2,3), (3,4)]\n",
    "num_nodes, len(edges)"
   ]
  },
  {
   "cell_type": "markdown",
   "metadata": {},
   "source": [
    "### Adjacency Lists\n",
    "\n",
    "![](https://i.imgur.com/rgMwkIW.png)\n",
    "\n",
    "\n",
    "> **Question**: Create a class to represent a graph as an adjacency list in Python"
   ]
  },
  {
   "cell_type": "code",
   "execution_count": 1527,
   "metadata": {},
   "outputs": [
    {
     "data": {
      "text/plain": [
       "'0 :[3, 3] 1 :[5, 3, 5]'"
      ]
     },
     "execution_count": 1527,
     "metadata": {},
     "output_type": "execute_result"
    }
   ],
   "source": [
    "\" \".join([f\"{n} :{neighbors}\" for n, neighbors in enumerate([[3,3], [5,3,5]])])"
   ]
  },
  {
   "cell_type": "code",
   "execution_count": 1528,
   "metadata": {},
   "outputs": [],
   "source": [
    "class Graph:\n",
    "    def __init__(self, num_nodes, edges):\n",
    "        self.num_nodes = num_nodes\n",
    "        self.adj_list = [[] for _ in range(num_nodes)]\n",
    "        for n1, n2 in edges:\n",
    "            self.adj_list[n1].append(n2)\n",
    "            self.adj_list[n2].append(n1)\n",
    "    \n",
    "    def insert(self, edge):\n",
    "        if edge[0] < self.num_nodes and edge[1] < self.num_nodes:\n",
    "            self.adj_list[edge[0]].append(edge[1])\n",
    "            self.adj_list[edge[1]].append(edge[0])\n",
    "        else:\n",
    "            self.num_nodes += 1\n",
    "            self.adj_list.append([])\n",
    "            self.adj_list[edge[0]].append(edge[1])\n",
    "            self.adj_list[edge[1]].append(edge[0])\n",
    "    \n",
    "    def delete(self, edge):\n",
    "        self.adj_list[edge[0]].remove(edge[1])\n",
    "        self.adj_list[edge[1]].remove(edge[0])\n",
    "    \n",
    "    def __repr__(self) -> str:\n",
    "        return \"\\n\".join([f\"{n} :{neighbors}\" for n, neighbors in enumerate(self.adj_list)])\n",
    "\n",
    "    def __str__(self) -> str:\n",
    "        return self.__repr__"
   ]
  },
  {
   "cell_type": "code",
   "execution_count": 1529,
   "metadata": {},
   "outputs": [],
   "source": [
    "graph1 = Graph(num_nodes, edges)"
   ]
  },
  {
   "cell_type": "code",
   "execution_count": 1530,
   "metadata": {},
   "outputs": [
    {
     "data": {
      "text/plain": [
       "0 :[1, 4]\n",
       "1 :[0, 2, 3, 4]\n",
       "2 :[1, 3]\n",
       "3 :[1, 2, 4]\n",
       "4 :[0, 1, 3]"
      ]
     },
     "execution_count": 1530,
     "metadata": {},
     "output_type": "execute_result"
    }
   ],
   "source": [
    "graph1"
   ]
  },
  {
   "cell_type": "code",
   "execution_count": 1531,
   "metadata": {},
   "outputs": [],
   "source": [
    "graph1.insert((2,5))"
   ]
  },
  {
   "cell_type": "code",
   "execution_count": 1532,
   "metadata": {},
   "outputs": [
    {
     "data": {
      "text/plain": [
       "0 :[1, 4]\n",
       "1 :[0, 2, 3, 4]\n",
       "2 :[1, 3, 5]\n",
       "3 :[1, 2, 4]\n",
       "4 :[0, 1, 3]\n",
       "5 :[2]"
      ]
     },
     "execution_count": 1532,
     "metadata": {},
     "output_type": "execute_result"
    }
   ],
   "source": [
    "graph1"
   ]
  },
  {
   "cell_type": "code",
   "execution_count": 1533,
   "metadata": {},
   "outputs": [],
   "source": [
    "graph1.delete((2,5))"
   ]
  },
  {
   "cell_type": "code",
   "execution_count": 1534,
   "metadata": {},
   "outputs": [
    {
     "data": {
      "text/plain": [
       "0 :[1, 4]\n",
       "1 :[0, 2, 3, 4]\n",
       "2 :[1, 3]\n",
       "3 :[1, 2, 4]\n",
       "4 :[0, 1, 3]\n",
       "5 :[]"
      ]
     },
     "execution_count": 1534,
     "metadata": {},
     "output_type": "execute_result"
    }
   ],
   "source": [
    "graph1"
   ]
  },
  {
   "cell_type": "code",
   "execution_count": 1535,
   "metadata": {},
   "outputs": [
    {
     "data": {
      "text/plain": [
       "[[1, 4], [0, 2, 3, 4], [1, 3], [1, 2, 4], [0, 1, 3], []]"
      ]
     },
     "execution_count": 1535,
     "metadata": {},
     "output_type": "execute_result"
    }
   ],
   "source": [
    "graph1.adj_list"
   ]
  },
  {
   "cell_type": "markdown",
   "metadata": {},
   "source": [
    "### Adjacency Matrix\n",
    "\n",
    "![](https://i.imgur.com/oswYKTW.png)\n",
    "\n",
    "> **Question**: Represent a graph as an adjacency matrix in Python"
   ]
  },
  {
   "cell_type": "code",
   "execution_count": 1536,
   "metadata": {},
   "outputs": [
    {
     "name": "stdout",
     "output_type": "stream",
     "text": [
      "(0, [0, 0, 0, 0])\n",
      "(1, [0, 0, 0, 0])\n",
      "(2, [0, 0, 0, 0])\n",
      "(3, [0, 0, 0, 0])\n"
     ]
    }
   ],
   "source": [
    "k = [[0 for _ in range(4)] for _ in range(4)]\n",
    "for j in enumerate(k):\n",
    "    print(j)"
   ]
  },
  {
   "cell_type": "code",
   "execution_count": 1537,
   "metadata": {},
   "outputs": [],
   "source": [
    "class Graph2:\n",
    "    def __init__(self, num_nodes, edges) -> None:\n",
    "        self.num_nodes = num_nodes\n",
    "        self.adj_matrix = [[0 for _ in range(num_nodes)] for _ in range(num_nodes)]\n",
    "        for n1, n2 in edges:\n",
    "            self.adj_matrix[n1][n2] = 1\n",
    "            self.adj_matrix[n2][n1] = 1\n",
    "    \n",
    "    def __repr__(self) -> str:\n",
    "        return \"\\n\".join([f\"{n} : {node_list}\" for n, node_list in enumerate(self.adj_matrix)])\n",
    "    \n",
    "    def __str__(self) -> str:\n",
    "        return self.__repr__\n"
   ]
  },
  {
   "cell_type": "code",
   "execution_count": 1538,
   "metadata": {},
   "outputs": [
    {
     "data": {
      "text/plain": [
       "0 : [0, 1, 0, 0, 1]\n",
       "1 : [1, 0, 1, 1, 1]\n",
       "2 : [0, 1, 0, 1, 0]\n",
       "3 : [0, 1, 1, 0, 1]\n",
       "4 : [1, 1, 0, 1, 0]"
      ]
     },
     "execution_count": 1538,
     "metadata": {},
     "output_type": "execute_result"
    }
   ],
   "source": [
    "graph2 = Graph2(num_nodes, edges)\n",
    "graph2"
   ]
  },
  {
   "cell_type": "markdown",
   "metadata": {},
   "source": [
    "## Graph Traversal\n",
    "\n",
    "\n",
    "### Breadth-First Search\n",
    "\n",
    "A real-world graph:\n",
    "\n",
    "![](https://upload.wikimedia.org/wikipedia/commons/thumb/a/ad/MapGermanyGraph.svg/500px-MapGermanyGraph.svg.png)\n",
    "\n",
    "Breadth-fist search tree (starting from Frankfurt):\n",
    "\n",
    "![](https://upload.wikimedia.org/wikipedia/commons/thumb/6/63/GermanyBFS.svg/500px-GermanyBFS.svg.png)\n",
    "\n",
    "> **Question**: Implement breadth-first search given a source node in a graph using Python.\n",
    "\n",
    "\n",
    "<img src=\"https://i.imgur.com/E2Up1Pk.png\" width=\"400\">\n",
    "\n",
    "BFS pseudocode (Wikipedia):\n",
    "\n",
    "```\n",
    " 1  procedure BFS(G, root) is\n",
    " 2      let Q be a queue\n",
    " 3      label root as discovered\n",
    " 4      Q.enqueue(root)\n",
    " 5      while Q is not empty do\n",
    " 6          v := Q.dequeue()\n",
    " 7          if v is the goal then\n",
    " 8              return v\n",
    " 9          for all edges from v to w in G.adjacentEdges(v) do\n",
    "10              if w is not labeled as discovered then\n",
    "11                  label w as discovered\n",
    "12                  Q.enqueue(w)\n",
    "```\n"
   ]
  },
  {
   "cell_type": "markdown",
   "metadata": {},
   "source": [
    "<img src=\"https://cdn.programiz.com/sites/tutorial2program/files/queue-implementation.png\" width=\"400\">"
   ]
  },
  {
   "cell_type": "code",
   "execution_count": 1539,
   "metadata": {},
   "outputs": [],
   "source": [
    "def bfs(graph, root):\n",
    "    queue = []\n",
    "    discovered = [False for _ in range(len(graph.adj_list))] \n",
    "\n",
    "    # extra features of bst\n",
    "    distance = [None for _ in range(len(graph.adj_list))] \n",
    "    parent = [None for _ in range(len(graph.adj_list))]\n",
    "    all_connnected = True \n",
    "    distance[root] = 0\n",
    "\n",
    "    discovered[root] = True\n",
    "    queue.append(root)\n",
    "    idx = 0\n",
    "\n",
    "    while(idx < len(queue)):\n",
    "        current = queue[idx]\n",
    "        idx += 1\n",
    "        \n",
    "        for node in graph.adj_list[current]:\n",
    "            if not discovered[node]:\n",
    "                discovered[node] = True\n",
    "\n",
    "                # extra features of bst\n",
    "                parent[node] = current\n",
    "                distance[node] = 1 + distance[current]\n",
    "\n",
    "                queue.append(node)\n",
    "    \n",
    "    # check all the nodes in graph are connected\n",
    "    # extra features of bst\n",
    "    if len(queue) != len(graph.adj_list):\n",
    "        all_connnected = False\n",
    "    \n",
    "    return queue, parent, distance, all_connnected"
   ]
  },
  {
   "cell_type": "markdown",
   "metadata": {},
   "source": [
    "#### function to find connected components in a graph"
   ]
  },
  {
   "cell_type": "code",
   "execution_count": 1540,
   "metadata": {},
   "outputs": [],
   "source": [
    "def num_connected(graph):\n",
    "    idx = 0\n",
    "    count = 1\n",
    "    queue,_,_,connected = bfs(graph, idx)\n",
    "    while not connected and idx != len(graph.adj_list)-1:\n",
    "        idx += 1 \n",
    "        if idx not in queue:\n",
    "            queue,_,_,connected = bfs(graph, idx)\n",
    "            count += 1       \n",
    "    return count"
   ]
  },
  {
   "cell_type": "code",
   "execution_count": 1541,
   "metadata": {},
   "outputs": [
    {
     "data": {
      "text/plain": [
       "([3, 1, 2, 4, 0], [1, 3, 3, None, 3, None], [2, 1, 1, 0, 1, None], False)"
      ]
     },
     "execution_count": 1541,
     "metadata": {},
     "output_type": "execute_result"
    }
   ],
   "source": [
    "bfs(graph1, 3)"
   ]
  },
  {
   "cell_type": "code",
   "execution_count": 1542,
   "metadata": {},
   "outputs": [
    {
     "data": {
      "text/plain": [
       "False"
      ]
     },
     "execution_count": 1542,
     "metadata": {},
     "output_type": "execute_result"
    }
   ],
   "source": [
    "5 in bfs(graph1, 3)[1]"
   ]
  },
  {
   "cell_type": "code",
   "execution_count": 1543,
   "metadata": {},
   "outputs": [
    {
     "data": {
      "text/plain": [
       "2"
      ]
     },
     "execution_count": 1543,
     "metadata": {},
     "output_type": "execute_result"
    }
   ],
   "source": [
    "num_connected(graph1)"
   ]
  },
  {
   "cell_type": "code",
   "execution_count": 1544,
   "metadata": {},
   "outputs": [
    {
     "data": {
      "text/plain": [
       "(9, 8)"
      ]
     },
     "execution_count": 1544,
     "metadata": {},
     "output_type": "execute_result"
    }
   ],
   "source": [
    "num_nodes2 = 9\n",
    "edges2 = [(0,1), (0,3), (1,2), (2,3), (4,5), (4,6), (5,6), (7,8)]\n",
    "num_nodes2, len(edges2)"
   ]
  },
  {
   "cell_type": "code",
   "execution_count": 1545,
   "metadata": {},
   "outputs": [],
   "source": [
    "graph2 = Graph(num_nodes2, edges2)"
   ]
  },
  {
   "cell_type": "code",
   "execution_count": 1546,
   "metadata": {},
   "outputs": [
    {
     "data": {
      "text/plain": [
       "0 :[1, 3]\n",
       "1 :[0, 2]\n",
       "2 :[1, 3]\n",
       "3 :[0, 2]\n",
       "4 :[5, 6]\n",
       "5 :[4, 6]\n",
       "6 :[4, 5]\n",
       "7 :[8]\n",
       "8 :[7]"
      ]
     },
     "execution_count": 1546,
     "metadata": {},
     "output_type": "execute_result"
    }
   ],
   "source": [
    "graph2"
   ]
  },
  {
   "cell_type": "code",
   "execution_count": 1547,
   "metadata": {},
   "outputs": [
    {
     "data": {
      "text/plain": [
       "([3, 0, 2, 1],\n",
       " [3, 0, 3, None, None, None, None, None, None],\n",
       " [1, 2, 1, 0, None, None, None, None, None],\n",
       " False)"
      ]
     },
     "execution_count": 1547,
     "metadata": {},
     "output_type": "execute_result"
    }
   ],
   "source": [
    "bfs(graph2, 3)"
   ]
  },
  {
   "cell_type": "code",
   "execution_count": 1548,
   "metadata": {},
   "outputs": [
    {
     "data": {
      "text/plain": [
       "3"
      ]
     },
     "execution_count": 1548,
     "metadata": {},
     "output_type": "execute_result"
    }
   ],
   "source": [
    "num_connected(graph2)"
   ]
  },
  {
   "cell_type": "markdown",
   "metadata": {},
   "source": [
    "## Depth-first search\n",
    "\n",
    "![](https://upload.wikimedia.org/wikipedia/commons/thumb/7/7f/Depth-First-Search.gif/440px-Depth-First-Search.gif)\n",
    "\n",
    "\n",
    "> **Question**: Implement depth first search from a given node in a graph using Python.\n",
    "\n",
    "<img src=\"https://i.imgur.com/E2Up1Pk.png\" width=\"400\">\n",
    "\n",
    "DFS pseudocode (Wikipedia):\n",
    "\n",
    "```\n",
    "procedure DFS_iterative(G, v) is\n",
    "    let S be a stack\n",
    "    S.push(v)\n",
    "    while S is not empty do\n",
    "        v = S.pop()\n",
    "        if v is not labeled as discovered then\n",
    "            label v as discovered\n",
    "            for all edges from v to w in G.adjacentEdges(v) do \n",
    "                S.push(w)\n",
    "```\n",
    "\n"
   ]
  },
  {
   "cell_type": "markdown",
   "metadata": {},
   "source": [
    "<img src=\"https://cdn.programiz.com/sites/tutorial2program/files/stack.png\" width=\"400\">"
   ]
  },
  {
   "cell_type": "code",
   "execution_count": 1549,
   "metadata": {},
   "outputs": [],
   "source": [
    "def dfs(graph, root):\n",
    "    stack = []\n",
    "    discovered = [False for _ in range(len(graph.adj_list))]\n",
    "    dfs_out = []\n",
    "\n",
    "    stack.append(root)\n",
    "\n",
    "    while len(stack):\n",
    "        current = stack.pop()\n",
    "        if not discovered[current]:\n",
    "            discovered[current] = True\n",
    "            dfs_out.append(current)\n",
    "            \n",
    "            for node in graph.adj_list[current]:\n",
    "                if not discovered[node]:\n",
    "                    stack.append(node)\n",
    "    return dfs_out"
   ]
  },
  {
   "cell_type": "code",
   "execution_count": 1550,
   "metadata": {},
   "outputs": [
    {
     "data": {
      "text/plain": [
       "[3, 4, 1, 2, 0]"
      ]
     },
     "execution_count": 1550,
     "metadata": {},
     "output_type": "execute_result"
    }
   ],
   "source": [
    "dfs(graph1, 3)"
   ]
  },
  {
   "cell_type": "code",
   "execution_count": 1551,
   "metadata": {},
   "outputs": [
    {
     "data": {
      "text/plain": [
       "(5, 5)"
      ]
     },
     "execution_count": 1551,
     "metadata": {},
     "output_type": "execute_result"
    }
   ],
   "source": [
    "num_nodes3 = 5\n",
    "edges3 = [(1,0), (1,2), (0,3), (3,4), (2,0)]\n",
    "num_nodes3, len(edges3)"
   ]
  },
  {
   "cell_type": "code",
   "execution_count": 1552,
   "metadata": {},
   "outputs": [
    {
     "data": {
      "text/plain": [
       "0 :[1, 3, 2]\n",
       "1 :[0, 2]\n",
       "2 :[1, 0]\n",
       "3 :[0, 4]\n",
       "4 :[3]"
      ]
     },
     "execution_count": 1552,
     "metadata": {},
     "output_type": "execute_result"
    }
   ],
   "source": [
    "graph3 = Graph(num_nodes3, edges3)\n",
    "graph3"
   ]
  },
  {
   "cell_type": "code",
   "execution_count": 1553,
   "metadata": {},
   "outputs": [
    {
     "data": {
      "text/plain": [
       "[1, 2, 0, 3, 4]"
      ]
     },
     "execution_count": 1553,
     "metadata": {},
     "output_type": "execute_result"
    }
   ],
   "source": [
    "dfs(graph3, 1)"
   ]
  },
  {
   "cell_type": "code",
   "execution_count": 1554,
   "metadata": {},
   "outputs": [],
   "source": [
    "def dfs_v2(graph, root):\n",
    "    stack = []\n",
    "    discovered = [False for _ in range(len(graph.adj_list))]\n",
    "    dfs_out = []\n",
    "    is_cycle = False\n",
    "    num_cycle = 0\n",
    "    \n",
    "    stack.append(root)\n",
    "\n",
    "    while len(stack):\n",
    "        current = stack.pop()\n",
    "        if not discovered[current]:\n",
    "            discovered[current] = True\n",
    "            dfs_out.append(current)\n",
    "            \n",
    "            for node in graph.adj_list[current]:\n",
    "                if node in stack and not discovered[node]:\n",
    "                    is_cycle = True\n",
    "                    num_cycle += 1\n",
    "                if not discovered[node]:\n",
    "                    stack.append(node)\n",
    "    return dfs_out, is_cycle, num_cycle"
   ]
  },
  {
   "cell_type": "code",
   "execution_count": 1555,
   "metadata": {},
   "outputs": [
    {
     "data": {
      "text/plain": [
       "([1, 2, 0, 3, 4], True, 1)"
      ]
     },
     "execution_count": 1555,
     "metadata": {},
     "output_type": "execute_result"
    }
   ],
   "source": [
    "dfs_v2(graph3, 1)"
   ]
  },
  {
   "cell_type": "code",
   "execution_count": 1556,
   "metadata": {},
   "outputs": [
    {
     "data": {
      "text/plain": [
       "([1, 4, 3, 2, 0], True, 3)"
      ]
     },
     "execution_count": 1556,
     "metadata": {},
     "output_type": "execute_result"
    }
   ],
   "source": [
    "dfs_v2(graph1, 1)"
   ]
  },
  {
   "cell_type": "markdown",
   "metadata": {},
   "source": [
    "### Weighted Graphs\n",
    "\n",
    "![](https://i.imgur.com/wy7ZHRW.png)\n"
   ]
  },
  {
   "cell_type": "code",
   "execution_count": 1557,
   "metadata": {},
   "outputs": [
    {
     "data": {
      "text/plain": [
       "(9, 10)"
      ]
     },
     "execution_count": 1557,
     "metadata": {},
     "output_type": "execute_result"
    }
   ],
   "source": [
    "# Graph with weights\n",
    "num_nodes5 = 9\n",
    "edges5 = [(0, 1, 3), (0, 3, 2), (0, 8, 4), (1, 7, 4), (2, 7, 2), (2, 3, 6), \n",
    "          (2, 5, 1), (3, 4, 1), (4, 8, 8), (5, 6, 8)]\n",
    "\n",
    "num_nodes5, len(edges5)"
   ]
  },
  {
   "cell_type": "markdown",
   "metadata": {},
   "source": [
    "### Directed Graphs\n",
    "\n",
    "<img src=\"https://i.imgur.com/8AN7EUV.png\" width=\"480\">"
   ]
  },
  {
   "cell_type": "code",
   "execution_count": 1558,
   "metadata": {},
   "outputs": [
    {
     "data": {
      "text/plain": [
       "(5, 6)"
      ]
     },
     "execution_count": 1558,
     "metadata": {},
     "output_type": "execute_result"
    }
   ],
   "source": [
    "num_nodes6 = 5\n",
    "edges6 = [(0, 1), (1, 2), (2, 3), (2, 4), (4, 2), (3, 0)]\n",
    "num_nodes6, len(edges6)"
   ]
  },
  {
   "cell_type": "code",
   "execution_count": 1559,
   "metadata": {},
   "outputs": [],
   "source": [
    "class Graph_v2:\n",
    "    def __init__(self, num_nodes, edges, weighted = False, directed = False) -> None:\n",
    "        self.num_nodes = num_nodes\n",
    "        self.weighted = weighted\n",
    "        self.directed = directed\n",
    "        self.adj_list = [[] for _ in range(num_nodes)]\n",
    "        self.weight_list = [[] for _ in range(num_nodes)]\n",
    "        \n",
    "        if weighted:\n",
    "            for n1, n2, weight in edges:        \n",
    "                self.adj_list[n1].append(n2)\n",
    "                self.weight_list[n1].append(weight)\n",
    "                if not directed:\n",
    "                    self.adj_list[n2].append(n1)\n",
    "                    self.weight_list[n2].append(weight)\n",
    "        else:\n",
    "            for n1, n2 in edges:\n",
    "                self.adj_list[n1].append(n2)\n",
    "                if not directed:\n",
    "                    self.adj_list[n2].append(n1)\n",
    "    \n",
    "    def __repr__(self) -> str:\n",
    "        result = \"\"\n",
    "        if self.weighted:\n",
    "            for i, (node, weight) in enumerate(zip(self.adj_list, self.weight_list)):\n",
    "                result += f\"{i} :{list(zip(node, weight))}\\n\"\n",
    "        else:\n",
    "            for i, node in enumerate(self.adj_list):\n",
    "                result += f\"{i} :{node}\\n\"\n",
    "        return result\n",
    "                \n",
    "    def __str__(self) -> str:\n",
    "        return self.__repr__"
   ]
  },
  {
   "cell_type": "markdown",
   "metadata": {},
   "source": [
    "<img src=\"https://i.imgur.com/E2Up1Pk.png\" width=\"400\">"
   ]
  },
  {
   "cell_type": "code",
   "execution_count": 1560,
   "metadata": {},
   "outputs": [
    {
     "data": {
      "text/plain": [
       "0 :[1, 4]\n",
       "1 :[0, 2, 3, 4]\n",
       "2 :[1, 3]\n",
       "3 :[1, 2, 4]\n",
       "4 :[0, 1, 3]"
      ]
     },
     "execution_count": 1560,
     "metadata": {},
     "output_type": "execute_result"
    }
   ],
   "source": [
    "graph1 = Graph_v2(num_nodes, edges)\n",
    "graph1"
   ]
  },
  {
   "cell_type": "markdown",
   "metadata": {},
   "source": [
    "![](https://i.imgur.com/wy7ZHRW.png)"
   ]
  },
  {
   "cell_type": "code",
   "execution_count": 1561,
   "metadata": {},
   "outputs": [
    {
     "data": {
      "text/plain": [
       "0 :[(1, 3), (3, 2), (8, 4)]\n",
       "1 :[(0, 3), (7, 4)]\n",
       "2 :[(7, 2), (3, 6), (5, 1)]\n",
       "3 :[(0, 2), (2, 6), (4, 1)]\n",
       "4 :[(3, 1), (8, 8)]\n",
       "5 :[(2, 1), (6, 8)]\n",
       "6 :[(5, 8)]\n",
       "7 :[(1, 4), (2, 2)]\n",
       "8 :[(0, 4), (4, 8)]"
      ]
     },
     "execution_count": 1561,
     "metadata": {},
     "output_type": "execute_result"
    }
   ],
   "source": [
    "graph2 = Graph_v2(num_nodes5, edges5, weighted=True)\n",
    "graph2"
   ]
  },
  {
   "cell_type": "code",
   "execution_count": 1562,
   "metadata": {},
   "outputs": [
    {
     "name": "stderr",
     "output_type": "stream",
     "text": [
      "/Users/nushad/Library/Python/3.11/lib/python/site-packages/IPython/core/displayhook.py:281: UserWarning: Output cache limit (currently 1000 entries) hit.\n",
      "Flushing oldest 200 entries.\n",
      "  warn('Output cache limit (currently {sz} entries) hit.\\n'\n"
     ]
    },
    {
     "data": {
      "text/plain": [
       "[[1, 3, 8], [0, 7], [7, 3, 5], [0, 2, 4], [3, 8], [2, 6], [5], [1, 2], [0, 4]]"
      ]
     },
     "execution_count": 1562,
     "metadata": {},
     "output_type": "execute_result"
    }
   ],
   "source": [
    "graph2.adj_list"
   ]
  },
  {
   "cell_type": "code",
   "execution_count": 1563,
   "metadata": {},
   "outputs": [
    {
     "data": {
      "text/plain": [
       "[[3, 2, 4], [3, 4], [2, 6, 1], [2, 6, 1], [1, 8], [1, 8], [8], [4, 2], [4, 8]]"
      ]
     },
     "execution_count": 1563,
     "metadata": {},
     "output_type": "execute_result"
    }
   ],
   "source": [
    "graph2.weight_list"
   ]
  },
  {
   "cell_type": "code",
   "execution_count": 1564,
   "metadata": {},
   "outputs": [
    {
     "name": "stdout",
     "output_type": "stream",
     "text": [
      "[1, 3, 8] [3, 2, 4]\n",
      "[0, 7] [3, 4]\n",
      "[7, 3, 5] [2, 6, 1]\n",
      "[0, 2, 4] [2, 6, 1]\n",
      "[3, 8] [1, 8]\n",
      "[2, 6] [1, 8]\n",
      "[5] [8]\n",
      "[1, 2] [4, 2]\n",
      "[0, 4] [4, 8]\n"
     ]
    }
   ],
   "source": [
    "for i, (node, weight) in enumerate(zip(graph2.adj_list, graph2.weight_list)):\n",
    "    print(node, weight)"
   ]
  },
  {
   "cell_type": "markdown",
   "metadata": {},
   "source": [
    "<img src=\"https://i.imgur.com/8AN7EUV.png\" width=\"480\">"
   ]
  },
  {
   "cell_type": "code",
   "execution_count": 1565,
   "metadata": {},
   "outputs": [
    {
     "data": {
      "text/plain": [
       "0 :[1]\n",
       "1 :[2]\n",
       "2 :[3, 4]\n",
       "3 :[0]\n",
       "4 :[2]"
      ]
     },
     "execution_count": 1565,
     "metadata": {},
     "output_type": "execute_result"
    }
   ],
   "source": [
    "graph3 = Graph_v2(num_nodes6, edges6, directed=True)\n",
    "graph3"
   ]
  },
  {
   "cell_type": "markdown",
   "metadata": {},
   "source": [
    "## Shortest Paths\n",
    "\n",
    "\n",
    "> **Question**: Write a function to find the length of the shortest path between two nodes in a weighted directed graph.\n",
    "\n",
    "<img src=\"https://i.imgur.com/Zn5cUkO.png\" width=\"480\">\n",
    "\n",
    "\n",
    "**Dijkstra's algorithm (Wikipedia)**:\n",
    "\n",
    "![](https://upload.wikimedia.org/wikipedia/commons/5/57/Dijkstra_Animation.gif)\n",
    "\n",
    "1. Mark all nodes unvisited. Create a set of all the unvisited nodes called the unvisited set.\n",
    "2. Assign to every node a tentative distance value: set it to zero for our initial node and to infinity for all other nodes. Set the initial node as current.[16]\n",
    "3. For the current node, consider all of its unvisited neighbours and calculate their tentative distances through the current node. Compare the newly calculated tentative distance to the current assigned value and assign the smaller one. For example, if the current node A is marked with a distance of 6, and the edge connecting it with a neighbour B has length 2, then the distance to B through A will be 6 + 2 = 8. If B was previously marked with a distance greater than 8 then change it to 8. Otherwise, the current value will be kept.\n",
    "4. When we are done considering all of the unvisited neighbours of the current node, mark the current node as visited and remove it from the unvisited set. A visited node will never be checked again.\n",
    "5. If the destination node has been marked visited (when planning a route between two specific nodes) or if the smallest tentative distance among the nodes in the unvisited set is infinity (when planning a complete traversal; occurs when there is no connection between the initial node and remaining unvisited nodes), then stop. The algorithm has finished.\n",
    "6. Otherwise, select the unvisited node that is marked with the smallest tentative distance, set it as the new \"current node\", and go back to step 3."
   ]
  },
  {
   "cell_type": "markdown",
   "metadata": {},
   "source": [
    "### Shortest Path - Dijkstra's Algorithm"
   ]
  },
  {
   "cell_type": "code",
   "execution_count": 1566,
   "metadata": {},
   "outputs": [],
   "source": [
    "class Dijkstra:\n",
    "    def __init__(self, graph, source, target) -> None:\n",
    "        self.graph = graph\n",
    "        self.source = source\n",
    "        self.target = target\n",
    "        \n",
    "        \n",
    "    def update_distance(self, current, distance, parent):\n",
    "        \"\"\"Update the distances of the current node's neighbors\"\"\"\n",
    "        neighbors = self.graph.adj_list[current]\n",
    "        edge_weights =  self.graph.weight_list[current]\n",
    "        \n",
    "        for (node, weight) in zip(neighbors, edge_weights):\n",
    "            if distance[node] > weight + distance[current]:\n",
    "                distance[node] = weight + distance[current]\n",
    "                parent[node] = current\n",
    "    \n",
    "            \n",
    "    def find_min_node(self, distance, visited):\n",
    "        \"\"\"Pick the next univisited node at the smallest distance\"\"\"\n",
    "        min_dis = float('inf')\n",
    "        min_dist_node = None\n",
    "        \n",
    "        for node in range(len(distance)):\n",
    "            if not visited[node] and distance[node] < min_dis:\n",
    "                min_dis = distance[node]\n",
    "                min_dist_node = node\n",
    "        return min_dist_node\n",
    "\n",
    "        \n",
    "    def shortest_path(self):\n",
    "        \"\"\"Find the length of the shortest path between source and destination\"\"\"\n",
    "        queue = []\n",
    "        distance = [float('inf') for _ in range(len(self.graph.adj_list))]\n",
    "        visited = [False for _ in range(len(self.graph.adj_list))]\n",
    "        parent = [None for _ in range(len(self.graph.adj_list))]\n",
    "\n",
    "        distance[self.source] = 0\n",
    "        visited[self.source] = True\n",
    "        idx = 0\n",
    "        queue.append(self.source)\n",
    "\n",
    "        while idx != len(queue) and not visited[self.target]:\n",
    "            current = queue[idx]\n",
    "            idx += 1\n",
    "          \n",
    "            self.update_distance(current, distance, parent)\n",
    "            next_node = self.find_min_node(distance, visited)\n",
    "            if next_node:\n",
    "                visited[next_node] = True\n",
    "                queue.append(next_node)\n",
    "        return distance[self.target], distance, parent\n"
   ]
  },
  {
   "cell_type": "code",
   "execution_count": 1567,
   "metadata": {},
   "outputs": [],
   "source": [
    "path = Dijkstra(graph2, 0, 7)"
   ]
  },
  {
   "cell_type": "code",
   "execution_count": 1568,
   "metadata": {},
   "outputs": [
    {
     "data": {
      "text/plain": [
       "(7, [0, 3, 8, 2, 3, inf, inf, 7, 4], [None, 0, 3, 0, 3, None, None, 1, 0])"
      ]
     },
     "execution_count": 1568,
     "metadata": {},
     "output_type": "execute_result"
    }
   ],
   "source": [
    "path.shortest_path()"
   ]
  },
  {
   "cell_type": "code",
   "execution_count": 1569,
   "metadata": {},
   "outputs": [
    {
     "data": {
      "text/plain": [
       "(6, 7)"
      ]
     },
     "execution_count": 1569,
     "metadata": {},
     "output_type": "execute_result"
    }
   ],
   "source": [
    "num_nodes7 = 6\n",
    "edges7 = [(0, 1, 4), (0, 2, 2), (1, 2, 5), (1, 3, 10), (2, 4, 3), (4, 3, 4), (3, 5, 11)]\n",
    "num_nodes7, len(edges7)"
   ]
  },
  {
   "cell_type": "markdown",
   "metadata": {},
   "source": [
    "<img src=\"https://i.imgur.com/Zn5cUkO.png\" width=\"480\">\n"
   ]
  },
  {
   "cell_type": "code",
   "execution_count": 1570,
   "metadata": {},
   "outputs": [],
   "source": [
    "graph4 = Graph_v2(num_nodes7, edges7, weighted=True, directed=True)"
   ]
  },
  {
   "cell_type": "code",
   "execution_count": 1571,
   "metadata": {},
   "outputs": [
    {
     "data": {
      "text/plain": [
       "0 :[(1, 4), (2, 2)]\n",
       "1 :[(2, 5), (3, 10)]\n",
       "2 :[(4, 3)]\n",
       "3 :[(5, 11)]\n",
       "4 :[(3, 4)]\n",
       "5 :[]"
      ]
     },
     "execution_count": 1571,
     "metadata": {},
     "output_type": "execute_result"
    }
   ],
   "source": [
    "graph4"
   ]
  },
  {
   "cell_type": "code",
   "execution_count": 1572,
   "metadata": {},
   "outputs": [
    {
     "data": {
      "text/plain": [
       "(20, [0, 4, 2, 9, 5, 20], [None, 0, 0, 4, 2, 3])"
      ]
     },
     "execution_count": 1572,
     "metadata": {},
     "output_type": "execute_result"
    }
   ],
   "source": [
    "path2 = Dijkstra(graph4, 0, 5)\n",
    "path2.shortest_path()"
   ]
  },
  {
   "cell_type": "code",
   "execution_count": 1573,
   "metadata": {},
   "outputs": [],
   "source": [
    "def update_distances(graph, current, distance, parent=None):\n",
    "    \"\"\"Update the distances of the current node's neighbors\"\"\"\n",
    "    neighbors = graph.adj_list[current]\n",
    "    weights = graph.weight_list[current]\n",
    "    for i, node in enumerate(neighbors):\n",
    "        weight = weights[i]\n",
    "        if distance[current] + weight < distance[node]:\n",
    "            distance[node] = distance[current] + weight\n",
    "            if parent:\n",
    "                parent[node] = current\n",
    "\n",
    "def pick_next_node(distance, visited):\n",
    "    \"\"\"Pick the next univisited node at the smallest distance\"\"\"\n",
    "    min_distance = float('inf')\n",
    "    min_node = None\n",
    "    for node in range(len(distance)):\n",
    "        if not visited[node] and distance[node] < min_distance:\n",
    "            min_node = node\n",
    "            min_distance = distance[node]\n",
    "    return min_node\n",
    "        \n",
    "def shortest_path(graph, source, dest):\n",
    "    \"\"\"Find the length of the shortest path between source and destination\"\"\"\n",
    "    visited = [False] * len(graph.adj_list)\n",
    "    distance = [float('inf')] * len(graph.adj_list)\n",
    "    parent = [None] * len(graph.adj_list)\n",
    "    queue = []\n",
    "    idx = 0\n",
    "    \n",
    "    queue.append(source)\n",
    "    distance[source] = 0\n",
    "    visited[source] = True\n",
    "    \n",
    "    while idx < len(queue) and not visited[dest]:\n",
    "        current = queue[idx]\n",
    "        update_distances(graph, current, distance, parent)\n",
    "        \n",
    "        next_node = pick_next_node(distance, visited)\n",
    "        if next_node is not None:\n",
    "            visited[next_node] = True\n",
    "            queue.append(next_node)\n",
    "        idx += 1\n",
    "        \n",
    "    return distance[dest], distance, parent"
   ]
  },
  {
   "cell_type": "code",
   "execution_count": 1574,
   "metadata": {},
   "outputs": [
    {
     "data": {
      "text/plain": [
       "(20, [0, 4, 2, 9, 5, 20], [None, 0, 0, 4, 2, 3])"
      ]
     },
     "execution_count": 1574,
     "metadata": {},
     "output_type": "execute_result"
    }
   ],
   "source": [
    "shortest_path(graph4, 0, 5)"
   ]
  },
  {
   "cell_type": "code",
   "execution_count": 1575,
   "metadata": {},
   "outputs": [
    {
     "data": {
      "text/plain": [
       "True"
      ]
     },
     "execution_count": 1575,
     "metadata": {},
     "output_type": "execute_result"
    }
   ],
   "source": [
    "shortest_path(graph4, 0, 5) == path2.shortest_path()"
   ]
  },
  {
   "cell_type": "markdown",
   "metadata": {},
   "source": [
    "### Binary Heap\n",
    "\n",
    "A data structure to maintain the running minimum/maximum of a set of numbers, supporting efficient addition/removal.\n",
    "\n",
    "\n",
    "<img src=\"https://i.imgur.com/ABAcM7m.png\" width=\"400\">\n",
    "\n",
    "\n",
    "Heap operations:\n",
    "\n",
    "- Insertion - $O(log N)$\n",
    "- Min/Max - $O(1)$ (depending on type of heap)\n",
    "- Deletion - $O(log N)$\n",
    "- Convert a list to a heap - $O(n)$\n",
    "\n",
    "\n",
    "Python's built-in heap: https://docs.python.org/3/library/heapq.html\n",
    "\n",
    "> **Question**: Implement Dijkstra's shortest path algorithm using the `heap` module from Python. What is the complexity of the algorithm?"
   ]
  },
  {
   "cell_type": "markdown",
   "metadata": {},
   "source": [
    "### More Problems\n",
    "\n",
    "Solve more graph problems here: https://leetcode.com/tag/graph/"
   ]
  },
  {
   "cell_type": "markdown",
   "metadata": {},
   "source": [
    "### Time complexity\n",
    "\n",
    "> DFS - $O(n+e)$ \n",
    ">\n",
    "> BFS - $O(n+e)$ \n",
    ">\n",
    "> Dijkstra(with out heap) - $O(n^2+e)$\n",
    ">\n",
    "\n",
    "n - no. of nodes          \n",
    "      e - no. of edges"
   ]
  }
 ],
 "metadata": {
  "kernelspec": {
   "display_name": "Python 3",
   "language": "python",
   "name": "python3"
  },
  "language_info": {
   "codemirror_mode": {
    "name": "ipython",
    "version": 3
   },
   "file_extension": ".py",
   "mimetype": "text/x-python",
   "name": "python",
   "nbconvert_exporter": "python",
   "pygments_lexer": "ipython3",
   "version": "3.9.17"
  },
  "orig_nbformat": 4
 },
 "nbformat": 4,
 "nbformat_minor": 2
}
